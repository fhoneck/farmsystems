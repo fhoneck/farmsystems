{
 "cells": [
  {
   "cell_type": "code",
   "execution_count": 1,
   "metadata": {},
   "outputs": [],
   "source": [
    "import pandas as pd"
   ]
  },
  {
   "cell_type": "code",
   "execution_count": 2,
   "metadata": {},
   "outputs": [],
   "source": [
    "hit = pd.read_csv(\"hit.csv\")\n",
    "pitch = pd.read_csv(\"pitch.csv\")"
   ]
  },
  {
   "cell_type": "code",
   "execution_count": 9,
   "metadata": {},
   "outputs": [
    {
     "data": {
      "text/html": [
       "<div>\n",
       "<style scoped>\n",
       "    .dataframe tbody tr th:only-of-type {\n",
       "        vertical-align: middle;\n",
       "    }\n",
       "\n",
       "    .dataframe tbody tr th {\n",
       "        vertical-align: top;\n",
       "    }\n",
       "\n",
       "    .dataframe thead th {\n",
       "        text-align: right;\n",
       "    }\n",
       "</style>\n",
       "<table border=\"1\" class=\"dataframe\">\n",
       "  <thead>\n",
       "    <tr style=\"text-align: right;\">\n",
       "      <th></th>\n",
       "      <th>Season</th>\n",
       "      <th>Name</th>\n",
       "      <th>Team</th>\n",
       "      <th>WAR</th>\n",
       "      <th>playerid</th>\n",
       "    </tr>\n",
       "  </thead>\n",
       "  <tbody>\n",
       "    <tr>\n",
       "      <th>0</th>\n",
       "      <td>1920</td>\n",
       "      <td>Babe Ruth</td>\n",
       "      <td>NYY</td>\n",
       "      <td>13.3</td>\n",
       "      <td>1011327</td>\n",
       "    </tr>\n",
       "    <tr>\n",
       "      <th>1</th>\n",
       "      <td>1921</td>\n",
       "      <td>Babe Ruth</td>\n",
       "      <td>NYY</td>\n",
       "      <td>13.9</td>\n",
       "      <td>1011327</td>\n",
       "    </tr>\n",
       "    <tr>\n",
       "      <th>2</th>\n",
       "      <td>1923</td>\n",
       "      <td>Babe Ruth</td>\n",
       "      <td>NYY</td>\n",
       "      <td>15.0</td>\n",
       "      <td>1011327</td>\n",
       "    </tr>\n",
       "    <tr>\n",
       "      <th>3</th>\n",
       "      <td>1941</td>\n",
       "      <td>Ted Williams</td>\n",
       "      <td>BOS</td>\n",
       "      <td>11.0</td>\n",
       "      <td>1014040</td>\n",
       "    </tr>\n",
       "    <tr>\n",
       "      <th>4</th>\n",
       "      <td>1926</td>\n",
       "      <td>Babe Ruth</td>\n",
       "      <td>NYY</td>\n",
       "      <td>12.0</td>\n",
       "      <td>1011327</td>\n",
       "    </tr>\n",
       "    <tr>\n",
       "      <th>...</th>\n",
       "      <td>...</td>\n",
       "      <td>...</td>\n",
       "      <td>...</td>\n",
       "      <td>...</td>\n",
       "      <td>...</td>\n",
       "    </tr>\n",
       "    <tr>\n",
       "      <th>44721</th>\n",
       "      <td>1998</td>\n",
       "      <td>Joe Hudson</td>\n",
       "      <td>MIL</td>\n",
       "      <td>-0.1</td>\n",
       "      <td>1006138</td>\n",
       "    </tr>\n",
       "    <tr>\n",
       "      <th>44722</th>\n",
       "      <td>2019</td>\n",
       "      <td>Austen Williams</td>\n",
       "      <td>WSN</td>\n",
       "      <td>-0.2</td>\n",
       "      <td>16309</td>\n",
       "    </tr>\n",
       "    <tr>\n",
       "      <th>44723</th>\n",
       "      <td>1894</td>\n",
       "      <td>Jack Scheible</td>\n",
       "      <td>PHI</td>\n",
       "      <td>0.0</td>\n",
       "      <td>1011540</td>\n",
       "    </tr>\n",
       "    <tr>\n",
       "      <th>44724</th>\n",
       "      <td>1945</td>\n",
       "      <td>Joe Cleary</td>\n",
       "      <td>WAS</td>\n",
       "      <td>-0.1</td>\n",
       "      <td>1002329</td>\n",
       "    </tr>\n",
       "    <tr>\n",
       "      <th>44725</th>\n",
       "      <td>2007</td>\n",
       "      <td>Jeff Ridgway</td>\n",
       "      <td>TBD</td>\n",
       "      <td>-0.1</td>\n",
       "      <td>2819</td>\n",
       "    </tr>\n",
       "  </tbody>\n",
       "</table>\n",
       "<p>60312 rows × 5 columns</p>\n",
       "</div>"
      ],
      "text/plain": [
       "       Season             Name Team   WAR  playerid\n",
       "0        1920        Babe Ruth  NYY  13.3   1011327\n",
       "1        1921        Babe Ruth  NYY  13.9   1011327\n",
       "2        1923        Babe Ruth  NYY  15.0   1011327\n",
       "3        1941     Ted Williams  BOS  11.0   1014040\n",
       "4        1926        Babe Ruth  NYY  12.0   1011327\n",
       "...       ...              ...  ...   ...       ...\n",
       "44721    1998       Joe Hudson  MIL  -0.1   1006138\n",
       "44722    2019  Austen Williams  WSN  -0.2     16309\n",
       "44723    1894    Jack Scheible  PHI   0.0   1011540\n",
       "44724    1945       Joe Cleary  WAS  -0.1   1002329\n",
       "44725    2007     Jeff Ridgway  TBD  -0.1      2819\n",
       "\n",
       "[60312 rows x 5 columns]"
      ]
     },
     "execution_count": 9,
     "metadata": {},
     "output_type": "execute_result"
    }
   ],
   "source": [
    "total = hit.append(pitch)\n",
    "total"
   ]
  },
  {
   "cell_type": "code",
   "execution_count": 20,
   "metadata": {},
   "outputs": [],
   "source": [
    "debuts = []\n",
    "seasons = []\n",
    "for index, row in total.iterrows():\n",
    "    debuts.append(total[total[\"playerid\"]==row[\"playerid\"]].sort_values(by=\"Season\").iloc[0][\"Team\"])\n",
    "    seasons.append(total[total[\"playerid\"]==row[\"playerid\"]].sort_values(by=\"Season\").iloc[0][\"Season\"])\n",
    "total[\"Debut Team\"] = debuts\n",
    "total[\"Debut Season\"] = seasons"
   ]
  },
  {
   "cell_type": "code",
   "execution_count": 46,
   "metadata": {},
   "outputs": [],
   "source": [
    "ids = list(set(list(total[\"playerid\"])))\n",
    "output = pd.DataFrame()"
   ]
  },
  {
   "cell_type": "code",
   "execution_count": 47,
   "metadata": {},
   "outputs": [
    {
     "name": "stdout",
     "output_type": "stream",
     "text": [
      "                  0     1      2     3\n",
      "0   Garret Anderson  1996    CAL  20.2\n",
      "0      Kevin Appier  1989    KCR  51.0\n",
      "0   Scott Patterson  2008  - - -   0.0\n",
      "0       Jamie Burke  2008    SEA   0.0\n",
      "0   Mickey Callaway  1999    TBD   0.7\n",
      "..              ...   ...    ...   ...\n",
      "0   George Zuverink  1951    CLE   1.9\n",
      "0    Dutch Zwilling  1914    CWH  12.1\n",
      "0     Norman Glaser  1920    DET   0.0\n",
      "0               NaN  1885    CIN  -0.1\n",
      "0      George Craig  1907    PHA  -0.2\n",
      "\n",
      "[12885 rows x 4 columns]\n"
     ]
    }
   ],
   "source": [
    "for i in ids:\n",
    "    newrow = []\n",
    "    thisguy = total[total[\"playerid\"]==i]\n",
    "    newrow.append(thisguy.iloc[0][\"Name\"])\n",
    "    newrow.append(thisguy.iloc[0][\"Debut Season\"])\n",
    "    newrow.append(thisguy.iloc[0][\"Debut Team\"])\n",
    "    newrow.append(thisguy[\"WAR\"].sum())\n",
    "    output = output.append([newrow])\n",
    "print(output)"
   ]
  },
  {
   "cell_type": "code",
   "execution_count": 48,
   "metadata": {},
   "outputs": [],
   "source": [
    "output.columns = [\"Name\",\"Season\",\"Team\",\"WAR\"]"
   ]
  },
  {
   "cell_type": "code",
   "execution_count": 49,
   "metadata": {},
   "outputs": [],
   "source": [
    "output.to_csv(\"streamsheet.csv\")"
   ]
  },
  {
   "cell_type": "code",
   "execution_count": null,
   "metadata": {},
   "outputs": [],
   "source": []
  }
 ],
 "metadata": {
  "kernelspec": {
   "display_name": "Python 3",
   "language": "python",
   "name": "python3"
  },
  "language_info": {
   "codemirror_mode": {
    "name": "ipython",
    "version": 3
   },
   "file_extension": ".py",
   "mimetype": "text/x-python",
   "name": "python",
   "nbconvert_exporter": "python",
   "pygments_lexer": "ipython3",
   "version": "3.7.9"
  }
 },
 "nbformat": 4,
 "nbformat_minor": 4
}
