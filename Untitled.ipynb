{
 "cells": [
  {
   "cell_type": "code",
   "execution_count": 55,
   "metadata": {},
   "outputs": [],
   "source": [
    "import pandas as pd"
   ]
  },
  {
   "cell_type": "code",
   "execution_count": 56,
   "metadata": {},
   "outputs": [],
   "source": [
    "hit = pd.read_csv(\"hit.csv\")\n",
    "pitch = pd.read_csv(\"pitch.csv\")"
   ]
  },
  {
   "cell_type": "code",
   "execution_count": 57,
   "metadata": {},
   "outputs": [],
   "source": [
    "total = hit.append(pitch)"
   ]
  },
  {
   "cell_type": "code",
   "execution_count": 58,
   "metadata": {},
   "outputs": [],
   "source": [
    "debuts = []\n",
    "seasons = []\n",
    "for index, row in total.iterrows():\n",
    "    debuts.append(total[total[\"playerid\"]==row[\"playerid\"]].sort_values(by=\"Season\").iloc[0][\"Team\"])\n",
    "    seasons.append(total[total[\"playerid\"]==row[\"playerid\"]].sort_values(by=\"Season\").iloc[0][\"Season\"])\n",
    "total[\"Debut Team\"] = debuts\n",
    "total[\"Debut Season\"] = seasons"
   ]
  },
  {
   "cell_type": "code",
   "execution_count": 59,
   "metadata": {},
   "outputs": [],
   "source": [
    "ids = list(set(list(total[\"playerid\"])))\n",
    "output = pd.DataFrame()"
   ]
  },
  {
   "cell_type": "code",
   "execution_count": 60,
   "metadata": {},
   "outputs": [],
   "source": [
    "for i in ids:\n",
    "    newrow = []\n",
    "    thisguy = total[total[\"playerid\"]==i]\n",
    "    newrow.append(thisguy.iloc[0][\"Name\"])\n",
    "    newrow.append(thisguy.iloc[0][\"Debut Season\"])\n",
    "    newrow.append(thisguy.iloc[0][\"Debut Team\"])\n",
    "    newrow.append(thisguy[\"WAR\"].sum())\n",
    "    output = output.append([newrow])"
   ]
  },
  {
   "cell_type": "code",
   "execution_count": 61,
   "metadata": {},
   "outputs": [],
   "source": [
    "output.columns = [\"Name\",\"Season\",\"Team\",\"WAR\"]\n",
    "output = output[output[\"WAR\"]>= 0]\n",
    "output = output.reset_index(drop = True)"
   ]
  },
  {
   "cell_type": "code",
   "execution_count": 62,
   "metadata": {},
   "outputs": [],
   "source": [
    "output.to_csv(\"streamsheet.csv\")"
   ]
  }
 ],
 "metadata": {
  "kernelspec": {
   "display_name": "Python 3",
   "language": "python",
   "name": "python3"
  },
  "language_info": {
   "codemirror_mode": {
    "name": "ipython",
    "version": 3
   },
   "file_extension": ".py",
   "mimetype": "text/x-python",
   "name": "python",
   "nbconvert_exporter": "python",
   "pygments_lexer": "ipython3",
   "version": "3.7.9"
  }
 },
 "nbformat": 4,
 "nbformat_minor": 4
}
